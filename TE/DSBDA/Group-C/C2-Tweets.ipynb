{
 "cells": [
  {
   "cell_type": "markdown",
   "metadata": {},
   "source": [
    "Classify tweets into positive and negative tweets."
   ]
  },
  {
   "cell_type": "code",
   "execution_count": 2,
   "metadata": {},
   "outputs": [],
   "source": [
    "import pandas as pd\n",
    "import matplotlib.pyplot as plt\n",
    "import seaborn as ns\n"
   ]
  },
  {
   "cell_type": "code",
   "execution_count": 3,
   "metadata": {},
   "outputs": [
    {
     "name": "stderr",
     "output_type": "stream",
     "text": [
      "C:\\Users\\Swaraj\\AppData\\Local\\Temp\\ipykernel_10204\\2605030719.py:5: DtypeWarning: Columns (22,24) have mixed types. Specify dtype option on import or set low_memory=False.\n",
      "  df = pd.read_csv(file_path)\n"
     ]
    }
   ],
   "source": [
    "# Path to the CSV file\n",
    "file_path = r'D:\\VStud\\DS\\archive\\tweets\\data_visualization.csv'\n",
    "\n",
    "# Load the dataset into a DataFrame\n",
    "df = pd.read_csv(file_path)\n",
    "\n",
    "# Display the first few rows of the DataFrame\n",
    "#print(df.head())"
   ]
  },
  {
   "cell_type": "code",
   "execution_count": 4,
   "metadata": {},
   "outputs": [
    {
     "data": {
      "text/plain": [
       "Index(['id', 'conversation_id', 'created_at', 'date', 'time', 'timezone',\n",
       "       'user_id', 'username', 'name', 'place', 'tweet', 'language', 'mentions',\n",
       "       'urls', 'photos', 'replies_count', 'retweets_count', 'likes_count',\n",
       "       'hashtags', 'cashtags', 'link', 'retweet', 'quote_url', 'video',\n",
       "       'thumbnail', 'near', 'geo', 'source', 'user_rt_id', 'user_rt',\n",
       "       'retweet_id', 'reply_to', 'retweet_date', 'translate', 'trans_src',\n",
       "       'trans_dest'],\n",
       "      dtype='object')"
      ]
     },
     "execution_count": 4,
     "metadata": {},
     "output_type": "execute_result"
    }
   ],
   "source": [
    "df.columns"
   ]
  },
  {
   "cell_type": "code",
   "execution_count": 9,
   "metadata": {},
   "outputs": [
    {
     "name": "stdout",
     "output_type": "stream",
     "text": [
      "Requirement already satisfied: nltk in c:\\users\\swaraj\\anaconda3\\lib\\site-packages (3.8.1)\n",
      "Requirement already satisfied: click in c:\\users\\swaraj\\anaconda3\\lib\\site-packages (from nltk) (8.0.4)\n",
      "Requirement already satisfied: joblib in c:\\users\\swaraj\\anaconda3\\lib\\site-packages (from nltk) (1.2.0)\n",
      "Requirement already satisfied: regex>=2021.8.3 in c:\\users\\swaraj\\anaconda3\\lib\\site-packages (from nltk) (2022.7.9)\n",
      "Requirement already satisfied: tqdm in c:\\users\\swaraj\\anaconda3\\lib\\site-packages (from nltk) (4.65.0)\n",
      "Requirement already satisfied: colorama in c:\\users\\swaraj\\anaconda3\\lib\\site-packages (from click->nltk) (0.4.6)\n",
      "Note: you may need to restart the kernel to use updated packages.\n"
     ]
    }
   ],
   "source": [
    "pip install nltk\n"
   ]
  },
  {
   "cell_type": "code",
   "execution_count": 10,
   "metadata": {},
   "outputs": [
    {
     "name": "stderr",
     "output_type": "stream",
     "text": [
      "[nltk_data] Downloading package vader_lexicon to\n",
      "[nltk_data]     C:\\Users\\Swaraj\\AppData\\Roaming\\nltk_data...\n"
     ]
    },
    {
     "data": {
      "text/plain": [
       "True"
      ]
     },
     "execution_count": 10,
     "metadata": {},
     "output_type": "execute_result"
    }
   ],
   "source": [
    "import nltk\n",
    "nltk.download('vader_lexicon')\n"
   ]
  },
  {
   "cell_type": "code",
   "execution_count": 12,
   "metadata": {},
   "outputs": [
    {
     "name": "stdout",
     "output_type": "stream",
     "text": [
      "Positive Tweets:\n",
      "Take your storytelling to the next level using two of the most popular frameworks in their respective areas, #React and #D3, in @EliEladElrom's latest book. #datavisualization #webdev #webdevelopment  https://t.co/6KxZIKHsgi  https://t.co/ujAV92j9qs\n",
      "This data visualization shows where our greatest opportunities are to reduce emissions and have an outsized impact on climate change.   https://t.co/jNkjqcDk3Y\n",
      "Looking for examples of stellar charts made solely in @Datawrapper. Help? #DataVisualization #DataViz\n",
      "NRG is going into the cloud! Arriving this summer, NRG Cloud offers timely performance tracking, cutting-edge data management, advanced data visualization, and more. NRG Cloud puts you in control of your solar and wind data like never before. #DigitalTransformation #renewables  https://t.co/mKtUFKbQZ4\n",
      "Join @dwih_ny on June 22nd for an exclusive online talk with award-winning information designer Giorgia Lupi for data visualization inspiration and insights:  https://t.co/RzfPGm217K  https://t.co/5gxkTx7spS\n",
      "This week a group of 40 students in the @UWContinuingEd Data Visualization Certificate program completed their 30th of 30 weeks! I taught the 3rd term, terms 1 &amp; 2 were taught by @LisaACarlson &amp; @tommyunger, respectively. @timothymudd was TA &amp; grader for the whole program.\n",
      "Check out the show notes for our #webinar, \"Power of Data Visualization in Reporting.\" We show you the significance of a#dataviz report item and how to visualize data in #ssrs #reports.   Give it a read:  https://t.co/7b5G8fRAlS\n",
      "We are pleased to invite you to the EDHEC DataViz Challenge grand final for a virtual exchange with all Top 10 finalists to see how data visualization creates impact and can bring out compelling stories in support of @UNICEF’s mission.  https://t.co/Vbj9B48VjV\n",
      "We are so excited to introduce our researchers! The inaugural Computing Cultural Heritage in the Cloud researchers are here to explore emerging research methods like machine learning, computer vision, and interactive data visualization. Learn more at  https://t.co/PD2ct7PgcR  https://t.co/fTwGqPq1lc\n",
      "The webinar is warm up for Sports Tomorrow Congress, where we'll deep dive into leading innovation used by top clubs, such as @FCBarcelona i.e:  #AI, data visualization, tracking-data. Join us in Analytics Track: 11 Nov. Info + Mega Early Bird Pass:  https://t.co/eXwNp91HEH #STC21  https://t.co/2LZzCTs43U\n",
      "\n",
      "Negative Tweets:\n",
      "With #WISQARS Data Visualization, you can display injury data in an interactive, visual format. Watch this training video and learn more about WISQARS. Learn more:  https://t.co/p5GaRLlH7k  https://t.co/yAavqUbK4F\n",
      "...AND a citation this year from @sigmaawards for @manshar_ ! 🥳🎉  Judges said, \"Manas Sharma stands out for pushing the boundaries of data visualization and for the level of maturity shown in his work as an early career journalist.\"  We couldn't be prouder! 👏👏👏\n",
      "If the ProPublica reporting made you mad, this bit of data visualization will completely trip you out.  https://t.co/Yp6RTdFyzV  https://t.co/fzhNLb7412\n",
      "In A History of Data Visualization and Graphic Communication, Michael Friendly and Howard Wainer argue that visual thinking, by revealing what would otherwise remain invisible, has had a profound effect on the way we approach problems. @NewYorker    https://t.co/LrCty3mJnE\n",
      "Our disruptive technologies data visualization by Pentagram.   Available now in our Threadless store.  https://t.co/uvjZOXLPIr  https://t.co/hIKJ1PInEr\n",
      "Yes, algorithms can be biased. But they have an even bigger danger Data visualization artist @blprnt  explores what it means to rely on data that magnifies existing biases.   https://t.co/oah3Yc5LQF  https://t.co/XSZZcSYYCL\n",
      "#DataViz does not have to be hard: if you have already watched our Basic Data Visualization webinar, don't miss our Advanced version (on demand)   https://t.co/PfRk6npeO0  https://t.co/cdWB2EGVqD\n",
      "Crie Dashboards Simples e Estáticos no R  https://t.co/vekBjWPWz7 #StoryTelling #DataViz #DataVisualization  https://t.co/z2guMPAOzJ\n",
      "Data storytelling in a diverse world—Tableau Foundation and @UrbanInstitute announce the Do No Harm Guide: Applying Equity Awareness in Data Visualization, with approaches to research and present data through an equitable and inclusive lens.  https://t.co/fxpDNk5I3w\n",
      "I'm excited to publish a new report that I think everyone in data and #dataviz should read. | Do No Harm Guide: Applying Equity Awareness in Data Visualization #DoNoHarmGuide  https://t.co/mWCyDHLKaf\n"
     ]
    }
   ],
   "source": [
    "import pandas as pd\n",
    "from nltk.sentiment.vader import SentimentIntensityAnalyzer\n",
    "\n",
    "# Assuming your DataFrame has a column named \"tweet\"\n",
    "tweets = df['tweet']\n",
    "\n",
    "# Initialize the VADER sentiment analyzer\n",
    "sid = SentimentIntensityAnalyzer()\n",
    "\n",
    "# Classify each tweet as positive or negative\n",
    "positive_tweets = []\n",
    "negative_tweets = []\n",
    "\n",
    "for tweet in tweets:\n",
    "    # Get the polarity score of the tweet\n",
    "    scores = sid.polarity_scores(tweet)\n",
    "    \n",
    "    # Classify the tweet based on the compound score\n",
    "    if scores['compound'] >= 0.05 and len(positive_tweets) < 10:  # Threshold for positive sentiment\n",
    "        positive_tweets.append(tweet)\n",
    "    elif scores['compound'] <= -0.05 and len(negative_tweets) < 10:  # Threshold for negative sentiment\n",
    "        negative_tweets.append(tweet)\n",
    "\n",
    "# Print the classified tweets\n",
    "print(\"Positive Tweets:\")\n",
    "for tweet in positive_tweets:\n",
    "    print(tweet)\n",
    "    \n",
    "print(\"\\nNegative Tweets:\")\n",
    "for tweet in negative_tweets:\n",
    "    print(tweet)\n"
   ]
  }
 ],
 "metadata": {
  "kernelspec": {
   "display_name": "base",
   "language": "python",
   "name": "python3"
  },
  "language_info": {
   "codemirror_mode": {
    "name": "ipython",
    "version": 3
   },
   "file_extension": ".py",
   "mimetype": "text/x-python",
   "name": "python",
   "nbconvert_exporter": "python",
   "pygments_lexer": "ipython3",
   "version": "undefined.undefined.undefined"
  }
 },
 "nbformat": 4,
 "nbformat_minor": 2
}
